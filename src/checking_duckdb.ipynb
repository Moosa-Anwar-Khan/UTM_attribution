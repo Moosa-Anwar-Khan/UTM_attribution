{
 "cells": [
  {
   "cell_type": "code",
   "execution_count": 1,
   "id": "2621535b",
   "metadata": {},
   "outputs": [],
   "source": [
    "import duckdb"
   ]
  },
  {
   "cell_type": "code",
   "execution_count": null,
   "id": "807ac7bf",
   "metadata": {},
   "outputs": [],
   "source": [
    "# Connecting to your DuckDB file\n",
    "con = duckdb.connect(\"../outputs/duckdb/attribution.duckdb\")"
   ]
  },
  {
   "cell_type": "code",
   "execution_count": null,
   "id": "9dae8934",
   "metadata": {},
   "outputs": [
    {
     "name": "stdout",
     "output_type": "stream",
     "text": [
      "       name\n",
      "0   cat_mix\n",
      "1  contacts\n",
      "2    events\n",
      "3   metrics\n",
      "4     users\n",
      "5       utm\n"
     ]
    }
   ],
   "source": [
    "# Showing available tables\n",
    "print(con.execute(\"SHOW TABLES\").fetchdf())"
   ]
  },
  {
   "cell_type": "code",
   "execution_count": 5,
   "id": "40a98d57",
   "metadata": {},
   "outputs": [],
   "source": [
    "# Example query: view top sources by engagement rate\n",
    "df = con.execute(\"\"\"\n",
    "    SELECT utm_source, acquisition_volume, engagement_rate, retention_rate\n",
    "    FROM metrics\n",
    "    ORDER BY acquisition_volume DESC\n",
    "\"\"\").fetchdf()"
   ]
  },
  {
   "cell_type": "code",
   "execution_count": 6,
   "id": "9b9f479a",
   "metadata": {},
   "outputs": [
    {
     "name": "stdout",
     "output_type": "stream",
     "text": [
      "        utm_source  acquisition_volume  engagement_rate  retention_rate\n",
      "0          unknown                2001            0.787           0.901\n",
      "1  alexey_linkedin                 403            0.159           0.417\n",
      "2   dtc_newsletter                 245            0.090           0.363\n",
      "3   activecampaign                  12            0.750           0.917\n",
      "4      adrian_test                   2            0.000           0.000\n"
     ]
    }
   ],
   "source": [
    "print(df.head())"
   ]
  },
  {
   "cell_type": "code",
   "execution_count": 7,
   "id": "8ee0d696",
   "metadata": {},
   "outputs": [],
   "source": [
    "con.close()"
   ]
  },
  {
   "cell_type": "code",
   "execution_count": null,
   "id": "af42c639",
   "metadata": {},
   "outputs": [],
   "source": []
  }
 ],
 "metadata": {
  "kernelspec": {
   "display_name": ".venv2 (3.12.4)",
   "language": "python",
   "name": "python3"
  },
  "language_info": {
   "codemirror_mode": {
    "name": "ipython",
    "version": 3
   },
   "file_extension": ".py",
   "mimetype": "text/x-python",
   "name": "python",
   "nbconvert_exporter": "python",
   "pygments_lexer": "ipython3",
   "version": "3.12.4"
  }
 },
 "nbformat": 4,
 "nbformat_minor": 5
}
